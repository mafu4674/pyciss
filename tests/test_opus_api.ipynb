{
 "cells": [
  {
   "cell_type": "markdown",
   "metadata": {},
   "source": [
    "# Test format\n",
    "\n",
    "This test should be run using the pytest-ipynb plugin for py.test"
   ]
  },
  {
   "cell_type": "code",
   "execution_count": null,
   "metadata": {
    "collapsed": false
   },
   "outputs": [],
   "source": [
    "# setup\n",
    "from pyciss import opusapi\n",
    "from pathlib import Path\n",
    "import tempfile\n",
    "tmpdir = tempfile.TemporaryDirectory()\n",
    "\n",
    "# setup OPUS object to be used for the tests.\n",
    "# The query will retrieve URLS for each found object into\n",
    "# the `obsids` attribute of the OPUS object.\n",
    "opus = opusapi.OPUS()\n",
    "opus.query_image_id('N1695760475')"
   ]
  },
  {
   "cell_type": "code",
   "execution_count": null,
   "metadata": {
    "collapsed": false
   },
   "outputs": [],
   "source": [
    "# test_query_results\n",
    "baseurl = 'http://pds-rings.seti.org/volumes/COISS_2xxx/COISS_2069/data/'\n",
    "res = baseurl + '1695427520_1695761375/N1695760475_1.LBL'\n",
    "assert opus.obsids[0].raw.label_url == res"
   ]
  },
  {
   "cell_type": "code",
   "execution_count": null,
   "metadata": {
    "collapsed": false
   },
   "outputs": [],
   "source": [
    "# test_download_results\n",
    "opus.download_results(savedir=tmpdir.name)\n",
    "assert (Path(tmpdir.name) / 'N1695760475' / 'N1695760475_1.IMG').exists()\n",
    "assert (Path(tmpdir.name) / 'N1695760475' / 'N1695760475_1.LBL').exists()"
   ]
  },
  {
   "cell_type": "code",
   "execution_count": null,
   "metadata": {
    "collapsed": false
   },
   "outputs": [],
   "source": [
    "# test_download_previews\n",
    "opus.download_previews(savedir=tmpdir.name)\n",
    "assert (Path(tmpdir.name) / 'N1695760475' / 'N1695760475_1_med.jpg').exists()"
   ]
  },
  {
   "cell_type": "code",
   "execution_count": null,
   "metadata": {
    "collapsed": false
   },
   "outputs": [],
   "source": [
    "# test_get_metadata\n",
    "meta = opus.get_metadata(opus.obsids[0])\n",
    "assert meta.image['duration'] == 38.0\n",
    "assert 'emission1' in meta.surface_geom\n",
    "assert meta.general['declination1'] == 3.556135\n",
    "assert meta.iss['GAIN_MODE_ID'] == '29 ELECTRONS PER DN'"
   ]
  },
  {
   "cell_type": "code",
   "execution_count": null,
   "metadata": {
    "collapsed": false
   },
   "outputs": [],
   "source": [
    "# test_get_between_times_strings\n",
    "opus.get_between_times('2005-10-10:00:00:00', '2005-10-11:00:00:00')\n",
    "# this should find 7 items\n",
    "assert len(opus.obsids) == 7"
   ]
  },
  {
   "cell_type": "code",
   "execution_count": null,
   "metadata": {
    "collapsed": false
   },
   "outputs": [],
   "source": [
    "# test_get_between_times_datetimes\n",
    "import datetime as dt\n",
    "t1 = dt.datetime(2005, 10, 9)\n",
    "t2 = dt.datetime(2005, 10, 10)\n",
    "opus.get_between_times(t1, t2)\n",
    "assert len(opus.obsids) == 12"
   ]
  },
  {
   "cell_type": "code",
   "execution_count": null,
   "metadata": {
    "collapsed": false
   },
   "outputs": [],
   "source": [
    "# test_get_radial_res_query\n",
    "d = opus.get_radial_res_query(0.1, 0.2)\n",
    "assert isinstance(d, dict)\n",
    "assert d['instrumentid'] == 'Cassini+ISS'\n",
    "assert d['projectedradialresolution1'] == 0.1\n",
    "assert d['projectedradialresolution2'] == 0.2\n",
    "assert d['target'] == 'S+RINGS'"
   ]
  },
  {
   "cell_type": "code",
   "execution_count": null,
   "metadata": {
    "collapsed": false
   },
   "outputs": [],
   "source": [
    "# test_get_between_resolutions\n",
    "opus.get_between_resolutions(0.1,0.5)\n",
    "# should find 89 items\n",
    "assert len(opus.obsids) == 90"
   ]
  },
  {
   "cell_type": "code",
   "execution_count": null,
   "metadata": {
    "collapsed": false
   },
   "outputs": [],
   "source": [
    "# cleanup\n",
    "tmpdir.cleanup()"
   ]
  }
 ],
 "metadata": {
  "kernelspec": {
   "display_name": "Python [conda env:stable]",
   "language": "python",
   "name": "conda-env-stable-py"
  },
  "language_info": {
   "codemirror_mode": {
    "name": "ipython",
    "version": 3
   },
   "file_extension": ".py",
   "mimetype": "text/x-python",
   "name": "python",
   "nbconvert_exporter": "python",
   "pygments_lexer": "ipython3",
   "version": "3.5.2"
  }
 },
 "nbformat": 4,
 "nbformat_minor": 0
}
