{
 "cells": [
  {
   "cell_type": "code",
   "execution_count": null,
   "metadata": {
    "collapsed": false
   },
   "outputs": [],
   "source": [
    "from pyciss import meta"
   ]
  },
  {
   "cell_type": "code",
   "execution_count": null,
   "metadata": {
    "collapsed": false
   },
   "outputs": [],
   "source": [
    "# test_get_meta_df\n",
    "df = meta.get_meta_df()\n",
    "assert df.index[0] == \"N1467345444\"\n",
    "assert df.iloc[-1]['is_lit'] == False"
   ]
  },
  {
   "cell_type": "code",
   "execution_count": null,
   "metadata": {
    "collapsed": false
   },
   "outputs": [],
   "source": [
    "# test_get_order\n",
    "# This fishes out the resonance order from the identifier string\n",
    "# The order is defined as the delta between 1st and 2nd number.\n",
    "in_ = \"Mimas 4:1\"\n",
    "expected = 3\n",
    "assert meta.get_order(in_) == expected"
   ]
  },
  {
   "cell_type": "code",
   "execution_count": null,
   "metadata": {
    "collapsed": false
   },
   "outputs": [],
   "source": [
    "# test_get_resonances\n",
    "# test if the reading of resonance file works\n",
    "df = meta.get_resonances()\n",
    "assert df.iloc[0]['name'] == 'Titan 2:0'\n",
    "assert df.iloc[-1]['order'] == 3"
   ]
  },
  {
   "cell_type": "code",
   "execution_count": null,
   "metadata": {
    "collapsed": false
   },
   "outputs": [],
   "source": [
    "# test_get_prime_resonances\n",
    "# test if this filters for prime resonances (order = 1)\n",
    "df = meta.get_prime_resonances()\n",
    "assert meta.get_order(df.iloc[0]['name']) == 1\n",
    "assert meta.get_order(df.iloc[-1]['name']) == 1"
   ]
  },
  {
   "cell_type": "code",
   "execution_count": null,
   "metadata": {
    "collapsed": false
   },
   "outputs": [],
   "source": [
    "# test_get_janus_epimetheus_resonances\n",
    "# read higher precision Janus and Epimetheus resonance file\n",
    "df = meta.get_janus_epimetheus_resonances()\n",
    "assert df.iloc[0]['name'] == 'Janus1 2:1'\n",
    "assert df.iloc[-1]['name'] == 'Epimetheus2 15:13'"
   ]
  },
  {
   "cell_type": "code",
   "execution_count": null,
   "metadata": {
    "collapsed": false
   },
   "outputs": [],
   "source": [
    "df.head()"
   ]
  },
  {
   "cell_type": "code",
   "execution_count": null,
   "metadata": {
    "collapsed": false
   },
   "outputs": [],
   "source": [
    "# test_get_prime_jan_epi\n",
    "# read and filter for prime resonances of Janus and Epimetheus\n",
    "df = meta.get_prime_jan_epi()\n",
    "assert df.iloc[0]['name'] == 'Janus1 2:1'\n",
    "assert df.iloc[-1]['name'] == 'Epimetheus2 7:6'"
   ]
  },
  {
   "cell_type": "code",
   "execution_count": null,
   "metadata": {
    "collapsed": false
   },
   "outputs": [],
   "source": [
    "# test_get_all_resonances\n",
    "# read all moon resonances and merge them into one\n",
    "df = meta.get_all_resonances()\n",
    "assert df.iloc[0]['name'] == 'Titan 1:0'\n",
    "assert df.iloc[-1]['name'] == 'Mimas 3:2'"
   ]
  }
 ],
 "metadata": {
  "kernelspec": {
   "display_name": "Python [conda env:stable]",
   "language": "python",
   "name": "conda-env-stable-py"
  },
  "language_info": {
   "codemirror_mode": {
    "name": "ipython",
    "version": 3
   },
   "file_extension": ".py",
   "mimetype": "text/x-python",
   "name": "python",
   "nbconvert_exporter": "python",
   "pygments_lexer": "ipython3",
   "version": "3.5.2"
  }
 },
 "nbformat": 4,
 "nbformat_minor": 1
}
